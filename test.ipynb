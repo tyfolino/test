{
 "cells": [
  {
   "cell_type": "code",
   "execution_count": 1,
   "id": "9590bd0e-8176-4b2a-ba45-0dc763fb1606",
   "metadata": {},
   "outputs": [],
   "source": [
    "!git branch -m main"
   ]
  },
  {
   "cell_type": "code",
   "execution_count": null,
   "id": "c62c72ee-9ea6-4c92-a5a5-87891ce5cc62",
   "metadata": {},
   "outputs": [],
   "source": []
  }
 ],
 "metadata": {
  "kernelspec": {
   "display_name": "susc",
   "language": "python",
   "name": "susc"
  },
  "language_info": {
   "codemirror_mode": {
    "name": "ipython",
    "version": 3
   },
   "file_extension": ".py",
   "mimetype": "text/x-python",
   "name": "python",
   "nbconvert_exporter": "python",
   "pygments_lexer": "ipython3",
   "version": "3.11.7"
  }
 },
 "nbformat": 4,
 "nbformat_minor": 5
}
